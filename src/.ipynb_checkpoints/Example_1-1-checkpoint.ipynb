{
 "cells": [
  {
   "cell_type": "code",
   "execution_count": 1,
   "metadata": {},
   "outputs": [],
   "source": [
    "import numpy as np\n",
    "import pandas as pd\n",
    "import sklearn.neighbors\n",
    "import sklearn.linear_model\n",
    "\n",
    "%matplotlib inline\n",
    "import matplotlib.pyplot as plt\n",
    "\n",
    "import os\n",
    "import urllib"
   ]
  },
  {
   "cell_type": "code",
   "execution_count": 2,
   "metadata": {},
   "outputs": [
    {
     "name": "stdout",
     "output_type": "stream",
     "text": [
      "Downloading oecd_bli_2015.csv\n",
      "Downloading gdp_per_capita.csv\n",
      "\n",
      "Files successfuly donwloaded!\n"
     ]
    }
   ],
   "source": [
    "#Downloads the data from a website\n",
    "\n",
    "datapath = os.path.join(\"datasets\", \"lifesat\", \"\")\n",
    "DOWNLOAD_ROOT = \"https://raw.githubusercontent.com/coreyalmon/hands_on_ML_rep/master/src/\"\n",
    "\n",
    "os.makedirs(datapath, exist_ok = True) \n",
    "\n",
    "for filename in (\"oecd_bli_2015.csv\", \"gdp_per_capita.csv\"):\n",
    "    print(\"Downloading\", filename)\n",
    "    url = DOWNLOAD_ROOT + \"datasets/lifesat/\" + filename\n",
    "    \n",
    "    #Downloads files from github and puts them in the newly created directory\n",
    "    urllib.request.urlretrieve(url, datapath + filename) \n",
    "    \n",
    "print(\"\\nFiles successfuly donwloaded!\")\n",
    "    "
   ]
  },
  {
   "cell_type": "code",
   "execution_count": 11,
   "metadata": {},
   "outputs": [
    {
     "data": {
      "text/html": [
       "<div>\n",
       "<style scoped>\n",
       "    .dataframe tbody tr th:only-of-type {\n",
       "        vertical-align: middle;\n",
       "    }\n",
       "\n",
       "    .dataframe tbody tr th {\n",
       "        vertical-align: top;\n",
       "    }\n",
       "\n",
       "    .dataframe thead th {\n",
       "        text-align: right;\n",
       "    }\n",
       "</style>\n",
       "<table border=\"1\" class=\"dataframe\">\n",
       "  <thead>\n",
       "    <tr style=\"text-align: right;\">\n",
       "      <th></th>\n",
       "      <th>LOCATION</th>\n",
       "      <th>Country</th>\n",
       "      <th>INDICATOR</th>\n",
       "      <th>Indicator</th>\n",
       "      <th>MEASURE</th>\n",
       "      <th>Measure</th>\n",
       "      <th>INEQUALITY</th>\n",
       "      <th>Inequality</th>\n",
       "      <th>Unit Code</th>\n",
       "      <th>Unit</th>\n",
       "      <th>PowerCode Code</th>\n",
       "      <th>PowerCode</th>\n",
       "      <th>Reference Period Code</th>\n",
       "      <th>Reference Period</th>\n",
       "      <th>Value</th>\n",
       "      <th>Flag Codes</th>\n",
       "      <th>Flags</th>\n",
       "    </tr>\n",
       "  </thead>\n",
       "  <tbody>\n",
       "    <tr>\n",
       "      <td>2363</td>\n",
       "      <td>LTU</td>\n",
       "      <td>Lithuania</td>\n",
       "      <td>WL_EWLH</td>\n",
       "      <td>Employees working very long hours</td>\n",
       "      <td>L</td>\n",
       "      <td>Value</td>\n",
       "      <td>TOT</td>\n",
       "      <td>Total</td>\n",
       "      <td>PC</td>\n",
       "      <td>Percentage</td>\n",
       "      <td>0</td>\n",
       "      <td>Units</td>\n",
       "      <td>NaN</td>\n",
       "      <td>NaN</td>\n",
       "      <td>0.54</td>\n",
       "      <td>NaN</td>\n",
       "      <td>NaN</td>\n",
       "    </tr>\n",
       "    <tr>\n",
       "      <td>2364</td>\n",
       "      <td>COL</td>\n",
       "      <td>Colombia</td>\n",
       "      <td>WL_EWLH</td>\n",
       "      <td>Employees working very long hours</td>\n",
       "      <td>L</td>\n",
       "      <td>Value</td>\n",
       "      <td>MN</td>\n",
       "      <td>Men</td>\n",
       "      <td>PC</td>\n",
       "      <td>Percentage</td>\n",
       "      <td>0</td>\n",
       "      <td>Units</td>\n",
       "      <td>NaN</td>\n",
       "      <td>NaN</td>\n",
       "      <td>32.09</td>\n",
       "      <td>NaN</td>\n",
       "      <td>NaN</td>\n",
       "    </tr>\n",
       "    <tr>\n",
       "      <td>2365</td>\n",
       "      <td>LTU</td>\n",
       "      <td>Lithuania</td>\n",
       "      <td>WL_EWLH</td>\n",
       "      <td>Employees working very long hours</td>\n",
       "      <td>L</td>\n",
       "      <td>Value</td>\n",
       "      <td>MN</td>\n",
       "      <td>Men</td>\n",
       "      <td>PC</td>\n",
       "      <td>Percentage</td>\n",
       "      <td>0</td>\n",
       "      <td>Units</td>\n",
       "      <td>NaN</td>\n",
       "      <td>NaN</td>\n",
       "      <td>0.67</td>\n",
       "      <td>NaN</td>\n",
       "      <td>NaN</td>\n",
       "    </tr>\n",
       "    <tr>\n",
       "      <td>2366</td>\n",
       "      <td>COL</td>\n",
       "      <td>Colombia</td>\n",
       "      <td>WL_EWLH</td>\n",
       "      <td>Employees working very long hours</td>\n",
       "      <td>L</td>\n",
       "      <td>Value</td>\n",
       "      <td>WMN</td>\n",
       "      <td>Women</td>\n",
       "      <td>PC</td>\n",
       "      <td>Percentage</td>\n",
       "      <td>0</td>\n",
       "      <td>Units</td>\n",
       "      <td>NaN</td>\n",
       "      <td>NaN</td>\n",
       "      <td>19.37</td>\n",
       "      <td>NaN</td>\n",
       "      <td>NaN</td>\n",
       "    </tr>\n",
       "    <tr>\n",
       "      <td>2367</td>\n",
       "      <td>LTU</td>\n",
       "      <td>Lithuania</td>\n",
       "      <td>WL_EWLH</td>\n",
       "      <td>Employees working very long hours</td>\n",
       "      <td>L</td>\n",
       "      <td>Value</td>\n",
       "      <td>WMN</td>\n",
       "      <td>Women</td>\n",
       "      <td>PC</td>\n",
       "      <td>Percentage</td>\n",
       "      <td>0</td>\n",
       "      <td>Units</td>\n",
       "      <td>NaN</td>\n",
       "      <td>NaN</td>\n",
       "      <td>0.43</td>\n",
       "      <td>NaN</td>\n",
       "      <td>NaN</td>\n",
       "    </tr>\n",
       "  </tbody>\n",
       "</table>\n",
       "</div>"
      ],
      "text/plain": [
       "     LOCATION    Country INDICATOR                          Indicator MEASURE  \\\n",
       "2363      LTU  Lithuania   WL_EWLH  Employees working very long hours       L   \n",
       "2364      COL   Colombia   WL_EWLH  Employees working very long hours       L   \n",
       "2365      LTU  Lithuania   WL_EWLH  Employees working very long hours       L   \n",
       "2366      COL   Colombia   WL_EWLH  Employees working very long hours       L   \n",
       "2367      LTU  Lithuania   WL_EWLH  Employees working very long hours       L   \n",
       "\n",
       "     Measure INEQUALITY Inequality Unit Code        Unit  PowerCode Code  \\\n",
       "2363   Value        TOT      Total        PC  Percentage               0   \n",
       "2364   Value         MN        Men        PC  Percentage               0   \n",
       "2365   Value         MN        Men        PC  Percentage               0   \n",
       "2366   Value        WMN      Women        PC  Percentage               0   \n",
       "2367   Value        WMN      Women        PC  Percentage               0   \n",
       "\n",
       "     PowerCode  Reference Period Code  Reference Period  Value  Flag Codes  \\\n",
       "2363     Units                    NaN               NaN   0.54         NaN   \n",
       "2364     Units                    NaN               NaN  32.09         NaN   \n",
       "2365     Units                    NaN               NaN   0.67         NaN   \n",
       "2366     Units                    NaN               NaN  19.37         NaN   \n",
       "2367     Units                    NaN               NaN   0.43         NaN   \n",
       "\n",
       "      Flags  \n",
       "2363    NaN  \n",
       "2364    NaN  \n",
       "2365    NaN  \n",
       "2366    NaN  \n",
       "2367    NaN  "
      ]
     },
     "execution_count": 11,
     "metadata": {},
     "output_type": "execute_result"
    }
   ],
   "source": [
    "#Loads the data\n",
    "\n",
    "#thousands= reads the comma as part of a number\n",
    "oecd_bli = pd.read_csv(datapath + \"oecd_bli_2015.csv\", thousands=',')\n",
    "\n",
    "#'\\t' means tab. The data was written in latin1 encoding (prob from europe)\n",
    "gdp_per_capita = pd.read_csv(datapath + \"gdp_per_capita.csv\", thousands=',', delimiter='\\t', encoding='latin1', na_values=\"n/a\")\n",
    "\n",
    "\n",
    "oecd_bli.tail()\n"
   ]
  },
  {
   "cell_type": "code",
   "execution_count": 4,
   "metadata": {},
   "outputs": [],
   "source": [
    "#Prepares the data\n",
    "\n",
    "def prepare_country_stats(oecd_bli, gdp_per_capita):\n",
    "    oecd_bli = oecd_bli[oecd_bli[\"INEQUALITY\"] == \"TOT\"]   \n",
    "    oecd_bli = oecd_bli.pivot(index=\"Country\", columns=\"Indicator\", values=\"Value\")\n",
    "    \n",
    "    gdp_per_capita.rename(columns={\"2015\":\"GDP per capita\"}, inplace=True)\n",
    "    gdp_per_capita.set_index(\"Country\", inplace=True)\n",
    "    \n",
    "    full_country_stats = pd.merge(left=oecd_bli, right=gdp_per_capita,\n",
    "                             left_index=True, right_index=True)\n",
    "    full_country_stats.sort_values(by=\"GDP per capita\", inplace=True)\n",
    "    \n",
    "    remove_indices=[0,1,6,8,33,34,35]\n",
    "    keep_indices= list(set(range(36)) - set(remove_indices))   \n",
    "    \n",
    "    return full_country_stats[[\"GDP per capita\", \"Life satisfaction\"]].iloc[keep_indices]\n",
    "    \n",
    "country_stats = prepare_country_stats(oecd_bli, gdp_per_capita)\n",
    "X = np.c_[country_stats[\"GDP per capita\"]]              #Changes the data into column vectors\n",
    "y = np.c_[country_stats[\"Life satisfaction\"]]           #Changes the data into column vectors"
   ]
  },
  {
   "cell_type": "code",
   "execution_count": 5,
   "metadata": {},
   "outputs": [
    {
     "data": {
      "image/png": "[encoded data removed]",
      "text/plain": [
       "<Figure size 432x288 with 1 Axes>"
      ]
     },
     "metadata": {
      "needs_background": "light"
     },
     "output_type": "display_data"
    }
   ],
   "source": [
    "#Visualizes the data\n",
    "\n",
    "#Plot image\n",
    "country_stats.plot(kind='scatter', x=\"GDP per capita\", y=\"Life satisfaction\")  #Takes the columns in country_stats\n",
    "\n",
    "#Decorate image\n",
    "plt.rc('axes', labelsize=14)\n",
    "plt.rc('xtick', labelsize=12)\n",
    "plt.rc('ytick', labelsize=12)\n",
    "plt.title(\"GDP per Capita vs. Life Satisfaction\")\n",
    "\n",
    "#save image\n",
    "IMAGES_PATH = os.path.join(\"images\",\"figures\",\"\")\n",
    "os.makedirs(IMAGES_PATH, exist_ok=True)\n",
    "plt.savefig(IMAGES_PATH + \"/fig1.png\")"
   ]
  },
  {
   "cell_type": "code",
   "execution_count": 6,
   "metadata": {},
   "outputs": [],
   "source": [
    "#Selects a linear model\n",
    "model = sklearn.linear_model.LinearRegression()\n",
    "\n",
    "#Selects instance based model\n",
    "#model = sklearn.neighbors.KNeighborsRegressor(n_neighbors=3)\n"
   ]
  },
  {
   "cell_type": "code",
   "execution_count": 13,
   "metadata": {},
   "outputs": [
    {
     "data": {
      "text/plain": [
       "LinearRegression(copy_X=True, fit_intercept=True, n_jobs=None, normalize=False)"
      ]
     },
     "execution_count": 13,
     "metadata": {},
     "output_type": "execute_result"
    }
   ],
   "source": [
    "#Trains a linear model\n",
    "model.fit(X,y)"
   ]
  },
  {
   "cell_type": "code",
   "execution_count": 14,
   "metadata": {},
   "outputs": [
    {
     "data": {
      "text/plain": [
       "array([[8.9594268]])"
      ]
     },
     "execution_count": 14,
     "metadata": {},
     "output_type": "execute_result"
    }
   ],
   "source": [
    "#Makes a prediction\n",
    "\n",
    "X_new = [[92121.4]]             #Cyprus' GDP per capita\n",
    "model.predict(X_new)\n"
   ]
  },
  {
   "cell_type": "code",
   "execution_count": null,
   "metadata": {},
   "outputs": [],
   "source": []
  },
  {
   "cell_type": "code",
   "execution_count": null,
   "metadata": {},
   "outputs": [],
   "source": []
  },
  {
   "cell_type": "code",
   "execution_count": null,
   "metadata": {},
   "outputs": [],
   "source": []
  },
  {
   "cell_type": "code",
   "execution_count": null,
   "metadata": {},
   "outputs": [],
   "source": []
  }
 ],
 "metadata": {
  "kernelspec": {
   "display_name": "Python 3",
   "language": "python",
   "name": "python3"
  },
  "language_info": {
   "codemirror_mode": {
    "name": "ipython",
    "version": 3
   },
   "file_extension": ".py",
   "mimetype": "text/x-python",
   "name": "python",
   "nbconvert_exporter": "python",
   "pygments_lexer": "ipython3",
   "version": "3.7.4"
  }
 },
 "nbformat": 4,
 "nbformat_minor": 2
}
